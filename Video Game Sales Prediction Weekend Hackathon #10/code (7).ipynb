{
 "cells": [
  {
   "cell_type": "code",
   "execution_count": 1,
   "metadata": {},
   "outputs": [],
   "source": [
    "import pandas as pd\n",
    "import numpy as np\n",
    "import seaborn as sns\n",
    "import matplotlib as plt\n",
    "import matplotlib.pyplot as plt "
   ]
  },
  {
   "cell_type": "code",
   "execution_count": 2,
   "metadata": {},
   "outputs": [],
   "source": [
    "train=pd.read_csv(\"E:\\\\machine hack\\\\Video Game Sales Prediction Weekend Hackathon #10\\\\Data\\\\Train.csv\")"
   ]
  },
  {
   "cell_type": "code",
   "execution_count": 3,
   "metadata": {},
   "outputs": [
    {
     "data": {
      "text/html": [
       "<div>\n",
       "<style scoped>\n",
       "    .dataframe tbody tr th:only-of-type {\n",
       "        vertical-align: middle;\n",
       "    }\n",
       "\n",
       "    .dataframe tbody tr th {\n",
       "        vertical-align: top;\n",
       "    }\n",
       "\n",
       "    .dataframe thead th {\n",
       "        text-align: right;\n",
       "    }\n",
       "</style>\n",
       "<table border=\"1\" class=\"dataframe\">\n",
       "  <thead>\n",
       "    <tr style=\"text-align: right;\">\n",
       "      <th></th>\n",
       "      <th>ID</th>\n",
       "      <th>CONSOLE</th>\n",
       "      <th>YEAR</th>\n",
       "      <th>CATEGORY</th>\n",
       "      <th>PUBLISHER</th>\n",
       "      <th>RATING</th>\n",
       "      <th>CRITICS_POINTS</th>\n",
       "      <th>USER_POINTS</th>\n",
       "      <th>SalesInMillions</th>\n",
       "    </tr>\n",
       "  </thead>\n",
       "  <tbody>\n",
       "    <tr>\n",
       "      <th>3501</th>\n",
       "      <td>1323</td>\n",
       "      <td>ds</td>\n",
       "      <td>2007</td>\n",
       "      <td>role-playing</td>\n",
       "      <td>Square Enix</td>\n",
       "      <td>E10+</td>\n",
       "      <td>1.702128</td>\n",
       "      <td>0.065421</td>\n",
       "      <td>3.584264</td>\n",
       "    </tr>\n",
       "    <tr>\n",
       "      <th>3502</th>\n",
       "      <td>2862</td>\n",
       "      <td>3ds</td>\n",
       "      <td>2018</td>\n",
       "      <td>action</td>\n",
       "      <td>Nintendo</td>\n",
       "      <td>E10+</td>\n",
       "      <td>3.625000</td>\n",
       "      <td>0.090000</td>\n",
       "      <td>2.701472</td>\n",
       "    </tr>\n",
       "    <tr>\n",
       "      <th>3503</th>\n",
       "      <td>1980</td>\n",
       "      <td>ps3</td>\n",
       "      <td>2012</td>\n",
       "      <td>action</td>\n",
       "      <td>Warner Bros. Interactive Entertainment</td>\n",
       "      <td>E10+</td>\n",
       "      <td>2.814815</td>\n",
       "      <td>0.172917</td>\n",
       "      <td>1.631668</td>\n",
       "    </tr>\n",
       "    <tr>\n",
       "      <th>3504</th>\n",
       "      <td>3065</td>\n",
       "      <td>3ds</td>\n",
       "      <td>2016</td>\n",
       "      <td>simulation</td>\n",
       "      <td>Marvelous Entertainment</td>\n",
       "      <td>E10+</td>\n",
       "      <td>2.571429</td>\n",
       "      <td>0.464286</td>\n",
       "      <td>2.899156</td>\n",
       "    </tr>\n",
       "    <tr>\n",
       "      <th>3505</th>\n",
       "      <td>3722</td>\n",
       "      <td>gc</td>\n",
       "      <td>2005</td>\n",
       "      <td>platform</td>\n",
       "      <td>Thq</td>\n",
       "      <td>E</td>\n",
       "      <td>4.411765</td>\n",
       "      <td>2.325000</td>\n",
       "      <td>1.221262</td>\n",
       "    </tr>\n",
       "  </tbody>\n",
       "</table>\n",
       "</div>"
      ],
      "text/plain": [
       "        ID CONSOLE  YEAR      CATEGORY  \\\n",
       "3501  1323      ds  2007  role-playing   \n",
       "3502  2862     3ds  2018        action   \n",
       "3503  1980     ps3  2012        action   \n",
       "3504  3065     3ds  2016    simulation   \n",
       "3505  3722      gc  2005      platform   \n",
       "\n",
       "                                   PUBLISHER RATING  CRITICS_POINTS  \\\n",
       "3501                             Square Enix   E10+        1.702128   \n",
       "3502                                Nintendo   E10+        3.625000   \n",
       "3503  Warner Bros. Interactive Entertainment   E10+        2.814815   \n",
       "3504                 Marvelous Entertainment   E10+        2.571429   \n",
       "3505                                     Thq      E        4.411765   \n",
       "\n",
       "      USER_POINTS  SalesInMillions  \n",
       "3501     0.065421         3.584264  \n",
       "3502     0.090000         2.701472  \n",
       "3503     0.172917         1.631668  \n",
       "3504     0.464286         2.899156  \n",
       "3505     2.325000         1.221262  "
      ]
     },
     "execution_count": 3,
     "metadata": {},
     "output_type": "execute_result"
    }
   ],
   "source": [
    "train.tail()"
   ]
  },
  {
   "cell_type": "code",
   "execution_count": 4,
   "metadata": {},
   "outputs": [
    {
     "data": {
      "text/plain": [
       "ID                 False\n",
       "CONSOLE            False\n",
       "YEAR               False\n",
       "CATEGORY           False\n",
       "PUBLISHER          False\n",
       "RATING             False\n",
       "CRITICS_POINTS     False\n",
       "USER_POINTS        False\n",
       "SalesInMillions    False\n",
       "dtype: bool"
      ]
     },
     "execution_count": 4,
     "metadata": {},
     "output_type": "execute_result"
    }
   ],
   "source": [
    "train.isnull().any()"
   ]
  },
  {
   "cell_type": "code",
   "execution_count": 5,
   "metadata": {},
   "outputs": [
    {
     "data": {
      "text/plain": [
       "array(['ds', 'wii', 'pc', 'ps2', 'ps3', 'psp', 'x', 'x360', 'psv', 'gba',\n",
       "       'gc', 'ps', 'wiiu', 'xone', 'ps4', '3ds', 'dc'], dtype=object)"
      ]
     },
     "execution_count": 5,
     "metadata": {},
     "output_type": "execute_result"
    }
   ],
   "source": [
    "train.CONSOLE.unique()"
   ]
  },
  {
   "cell_type": "code",
   "execution_count": 6,
   "metadata": {},
   "outputs": [
    {
     "data": {
      "text/plain": [
       "array(['role-playing', 'simulation', 'shooter', 'sports', 'action',\n",
       "       'platform', 'strategy', 'racing', 'misc', 'fighting', 'adventure',\n",
       "       'puzzle'], dtype=object)"
      ]
     },
     "execution_count": 6,
     "metadata": {},
     "output_type": "execute_result"
    }
   ],
   "source": [
    "train.CATEGORY.unique()"
   ]
  },
  {
   "cell_type": "code",
   "execution_count": 7,
   "metadata": {},
   "outputs": [
    {
     "data": {
      "text/plain": [
       "array(['Nintendo', 'Konami Digital Entertainment', 'Activision',\n",
       "       'Electronic Arts', 'Sony Computer Entertainment', 'Idea Factory',\n",
       "       'Atari', 'Empire Interactive', 'Paradox Interactive', 'Lucasarts',\n",
       "       'Redoctane', 'Codemasters', 'Namco Bandai Games', 'Tecmo Koei',\n",
       "       'Square Enix', 'Infogrames', 'Microsoft Game Studios',\n",
       "       'Universal Interactive', 'Thq', 'Ubisoft', 'Take-Two Interactive',\n",
       "       'Disney Interactive Studios', 'Midway Games', 'Atlus',\n",
       "       'Eidos Interactive', 'Pqube', 'Sega',\n",
       "       'Warner Bros. Interactive Entertainment', 'Graffiti',\n",
       "       'Enix Corporation', 'Gt Interactive', 'Majesco Entertainment',\n",
       "       '505 Games', 'Acclaim Entertainment', 'Ignition Entertainment',\n",
       "       'Capcom', 'Mastertronic', 'Dtp Entertainment', 'Play It',\n",
       "       'Vivendi Games', 'Sci', 'Southpeak Games', 'Jowood Productions',\n",
       "       'Black Bean Games', 'Funcom', 'Global Star', 'Virgin Interactive',\n",
       "       'Nippon Ichi Software', 'Ghostlight', 'Rebellion',\n",
       "       'Rising Star Games', 'Deep Silver', 'Harmonix Music Systems',\n",
       "       'Metro 3D', 'Valve', 'Rage Software', 'Sunsoft', 'Phantagram',\n",
       "       'Kalypso Media', 'Marvelous Interactive',\n",
       "       'Sony Computer Entertainment Europe', 'Aksys Games', '1C Company',\n",
       "       'Koch Media', '3Do', 'Bethesda Softworks', 'Crave Entertainment',\n",
       "       'Mtv Games', 'Dusenberry Martin Racing', 'Tdk Mediactive',\n",
       "       'Nordic Games', 'Ncsoft', 'Marvelous Entertainment',\n",
       "       'Little Orbit', 'Zoo Games', 'Popcap Games', 'Squaresoft',\n",
       "       'Bam! Entertainment', 'Yacht Club Games', 'Gamecock',\n",
       "       'Insomniac Games', 'Kemco', 'Focus Home Interactive',\n",
       "       'Trion Worlds', 'Takara Tomy', 'Banpresto',\n",
       "       'Zoo Digital Publishing', 'Gathering Of Developers',\n",
       "       'White Park Bay Software', 'Crimson Cow', 'D3Publisher',\n",
       "       'Kool Kizz', 'Interplay', 'Scholastic Inc.', 'Gungho',\n",
       "       'Hasbro Interactive', 'Human Entertainment', 'From Software',\n",
       "       'Spike', 'Success', 'Talonsoft', 'Gaslamp Games',\n",
       "       'Tripwire Interactive', 'Game Factory', 'Aspyr', 'Xplosiv',\n",
       "       'Bigben Interactive', 'Pacific Century Cyber Works', '5P', 'Genki',\n",
       "       'Arc System Works', 'Mc2 Entertainment',\n",
       "       'Cdv Software Entertainment', 'Indie Games', 'Mad Catz',\n",
       "       'Screenlife', 'Nobilis', 'Groove Games', 'Unknown', 'Sold Out',\n",
       "       'Sting', 'Destination Software, Inc', 'Evolved Games', 'Destineer',\n",
       "       'Tomy Corporation', 'Jaleco', 'Milestone S.R.L', 'Microids',\n",
       "       'City Interactive', 'Ubisoft Annecy', 'System 3',\n",
       "       'Milestone S.R.L.', '506 Games', 'Hip Interactive', 'Mastiff',\n",
       "       'Illusion Softworks', 'Zushi Games',\n",
       "       'Home Entertainment Suppliers', 'Hudson Soft',\n",
       "       'Midas Interactive Entertainment', 'Sony Online Entertainment',\n",
       "       'Sammy Corporation', 'Devolver Digital', 'Xseed Games',\n",
       "       'Topware Interactive', 'Playlogic Game Factory',\n",
       "       'Iceberg Interactive', 'Slightly Mad Studios', 'Blue Byte',\n",
       "       'Furyu', 'Sony Computer Entertainment America', 'Aqua Plus',\n",
       "       'Ascaron Entertainment Gmbh', 'System 3 Arcade Software',\n",
       "       'Ascii Entertainment', 'Telltale Games', 'Ea Games',\n",
       "       'Rebellion Developments', 'Cloud Imperium Games Corporation',\n",
       "       'Valcon Games', 'Flashpoint Games', 'Cave', 'Gotham Games',\n",
       "       'Gamebridge', 'Valve Software', 'Square Ea', 'Activision Blizzard',\n",
       "       'Agetec', 'Naturalmotion', 'Avalon Interactive', 'Xs Games',\n",
       "       'Compile Heart', 'Touchstone', 'Pinnacle', 'Thq Nordic',\n",
       "       'Stainless Games', 'Mindscape', 'Tru Blu Entertainment',\n",
       "       'Enterbrain', 'Swing! Entertainment', 'Havas Interactive',\n",
       "       'Encore', 'Novalogic', 'Bitcomposer Games', 'Acquire',\n",
       "       'Dreamcatcher Interactive', 'Moss', 'Monster Games',\n",
       "       'Black Label Games', 'Revolution Software', 'Visco', 'Snk',\n",
       "       'Lexicon Entertainment', 'Aq Interactive', 'Rondomedia',\n",
       "       'Pm Studios', 'O-Games', 'Xicat Interactive',\n",
       "       'En Masse Entertainment', 'Team17 Software',\n",
       "       'Agatsuma Entertainment', 'Strategy First', 'Oovee Game Studios',\n",
       "       'Her Interactive'], dtype=object)"
      ]
     },
     "execution_count": 7,
     "metadata": {},
     "output_type": "execute_result"
    }
   ],
   "source": [
    "train.PUBLISHER.unique()"
   ]
  },
  {
   "cell_type": "code",
   "execution_count": 8,
   "metadata": {},
   "outputs": [
    {
     "data": {
      "text/plain": [
       "array(['E', 'E10+', 'M', 'T', 'K-A', 'RP'], dtype=object)"
      ]
     },
     "execution_count": 8,
     "metadata": {},
     "output_type": "execute_result"
    }
   ],
   "source": [
    "train.RATING.unique()"
   ]
  },
  {
   "cell_type": "code",
   "execution_count": 9,
   "metadata": {},
   "outputs": [],
   "source": [
    "test=pd.read_csv(\"E:\\\\machine hack\\\\Video Game Sales Prediction Weekend Hackathon #10\\\\Data\\\\Test.csv\")"
   ]
  },
  {
   "cell_type": "code",
   "execution_count": 10,
   "metadata": {},
   "outputs": [
    {
     "data": {
      "text/plain": [
       "ID                False\n",
       "CONSOLE           False\n",
       "YEAR              False\n",
       "CATEGORY          False\n",
       "PUBLISHER         False\n",
       "RATING            False\n",
       "CRITICS_POINTS    False\n",
       "USER_POINTS       False\n",
       "dtype: bool"
      ]
     },
     "execution_count": 10,
     "metadata": {},
     "output_type": "execute_result"
    }
   ],
   "source": [
    "test.isnull().any()"
   ]
  },
  {
   "cell_type": "code",
   "execution_count": 11,
   "metadata": {},
   "outputs": [],
   "source": [
    "fdata=train.append(test,sort=False)"
   ]
  },
  {
   "cell_type": "code",
   "execution_count": 12,
   "metadata": {},
   "outputs": [],
   "source": [
    "fdata.reset_index(inplace=True)"
   ]
  },
  {
   "cell_type": "code",
   "execution_count": 13,
   "metadata": {},
   "outputs": [],
   "source": [
    "fdata.drop(['ID','YEAR','CATEGORY','PUBLISHER'],axis=1,inplace=True)"
   ]
  },
  {
   "cell_type": "code",
   "execution_count": 14,
   "metadata": {},
   "outputs": [],
   "source": [
    "dr=pd.get_dummies(fdata['RATING'],drop_first=True)"
   ]
  },
  {
   "cell_type": "code",
   "execution_count": 15,
   "metadata": {},
   "outputs": [],
   "source": [
    "dc=pd.get_dummies(fdata['CONSOLE'],drop_first=True)"
   ]
  },
  {
   "cell_type": "code",
   "execution_count": 16,
   "metadata": {},
   "outputs": [],
   "source": [
    "fdata.drop(['RATING','CONSOLE'],axis=1,inplace=True)"
   ]
  },
  {
   "cell_type": "code",
   "execution_count": 17,
   "metadata": {},
   "outputs": [],
   "source": [
    "y=train.SalesInMillions"
   ]
  },
  {
   "cell_type": "code",
   "execution_count": 18,
   "metadata": {},
   "outputs": [],
   "source": [
    "fdata.drop(['SalesInMillions'],axis=1,inplace=True)"
   ]
  },
  {
   "cell_type": "code",
   "execution_count": 19,
   "metadata": {},
   "outputs": [],
   "source": [
    "from sklearn.preprocessing import StandardScaler\n",
    "sc_X = StandardScaler()\n",
    "fdata = sc_X.fit_transform(fdata)"
   ]
  },
  {
   "cell_type": "code",
   "execution_count": 20,
   "metadata": {},
   "outputs": [],
   "source": [
    "fdata = pd.DataFrame(data=fdata )"
   ]
  },
  {
   "cell_type": "code",
   "execution_count": 21,
   "metadata": {},
   "outputs": [],
   "source": [
    "data_upsampled = pd.concat([fdata,dr,dc],axis=1)"
   ]
  },
  {
   "cell_type": "code",
   "execution_count": 22,
   "metadata": {},
   "outputs": [
    {
     "data": {
      "text/html": [
       "<div>\n",
       "<style scoped>\n",
       "    .dataframe tbody tr th:only-of-type {\n",
       "        vertical-align: middle;\n",
       "    }\n",
       "\n",
       "    .dataframe tbody tr th {\n",
       "        vertical-align: top;\n",
       "    }\n",
       "\n",
       "    .dataframe thead th {\n",
       "        text-align: right;\n",
       "    }\n",
       "</style>\n",
       "<table border=\"1\" class=\"dataframe\">\n",
       "  <thead>\n",
       "    <tr style=\"text-align: right;\">\n",
       "      <th></th>\n",
       "      <th>0</th>\n",
       "      <th>1</th>\n",
       "      <th>2</th>\n",
       "      <th>E</th>\n",
       "      <th>E10+</th>\n",
       "      <th>K-A</th>\n",
       "      <th>M</th>\n",
       "      <th>RP</th>\n",
       "      <th>T</th>\n",
       "      <th>dc</th>\n",
       "      <th>...</th>\n",
       "      <th>ps2</th>\n",
       "      <th>ps3</th>\n",
       "      <th>ps4</th>\n",
       "      <th>psp</th>\n",
       "      <th>psv</th>\n",
       "      <th>wii</th>\n",
       "      <th>wiiu</th>\n",
       "      <th>x</th>\n",
       "      <th>x360</th>\n",
       "      <th>xone</th>\n",
       "    </tr>\n",
       "  </thead>\n",
       "  <tbody>\n",
       "    <tr>\n",
       "      <th>0</th>\n",
       "      <td>-1.463662</td>\n",
       "      <td>-0.307499</td>\n",
       "      <td>-0.222066</td>\n",
       "      <td>1</td>\n",
       "      <td>0</td>\n",
       "      <td>0</td>\n",
       "      <td>0</td>\n",
       "      <td>0</td>\n",
       "      <td>0</td>\n",
       "      <td>0</td>\n",
       "      <td>...</td>\n",
       "      <td>0</td>\n",
       "      <td>0</td>\n",
       "      <td>0</td>\n",
       "      <td>0</td>\n",
       "      <td>0</td>\n",
       "      <td>0</td>\n",
       "      <td>0</td>\n",
       "      <td>0</td>\n",
       "      <td>0</td>\n",
       "      <td>0</td>\n",
       "    </tr>\n",
       "    <tr>\n",
       "      <th>1</th>\n",
       "      <td>-1.462654</td>\n",
       "      <td>2.938074</td>\n",
       "      <td>2.711329</td>\n",
       "      <td>0</td>\n",
       "      <td>1</td>\n",
       "      <td>0</td>\n",
       "      <td>0</td>\n",
       "      <td>0</td>\n",
       "      <td>0</td>\n",
       "      <td>0</td>\n",
       "      <td>...</td>\n",
       "      <td>0</td>\n",
       "      <td>0</td>\n",
       "      <td>0</td>\n",
       "      <td>0</td>\n",
       "      <td>0</td>\n",
       "      <td>1</td>\n",
       "      <td>0</td>\n",
       "      <td>0</td>\n",
       "      <td>0</td>\n",
       "      <td>0</td>\n",
       "    </tr>\n",
       "    <tr>\n",
       "      <th>2</th>\n",
       "      <td>-1.461646</td>\n",
       "      <td>0.233865</td>\n",
       "      <td>-0.874675</td>\n",
       "      <td>0</td>\n",
       "      <td>0</td>\n",
       "      <td>0</td>\n",
       "      <td>1</td>\n",
       "      <td>0</td>\n",
       "      <td>0</td>\n",
       "      <td>0</td>\n",
       "      <td>...</td>\n",
       "      <td>0</td>\n",
       "      <td>0</td>\n",
       "      <td>0</td>\n",
       "      <td>0</td>\n",
       "      <td>0</td>\n",
       "      <td>0</td>\n",
       "      <td>0</td>\n",
       "      <td>0</td>\n",
       "      <td>0</td>\n",
       "      <td>0</td>\n",
       "    </tr>\n",
       "    <tr>\n",
       "      <th>3</th>\n",
       "      <td>-1.460638</td>\n",
       "      <td>0.114682</td>\n",
       "      <td>-0.171095</td>\n",
       "      <td>1</td>\n",
       "      <td>0</td>\n",
       "      <td>0</td>\n",
       "      <td>0</td>\n",
       "      <td>0</td>\n",
       "      <td>0</td>\n",
       "      <td>0</td>\n",
       "      <td>...</td>\n",
       "      <td>1</td>\n",
       "      <td>0</td>\n",
       "      <td>0</td>\n",
       "      <td>0</td>\n",
       "      <td>0</td>\n",
       "      <td>0</td>\n",
       "      <td>0</td>\n",
       "      <td>0</td>\n",
       "      <td>0</td>\n",
       "      <td>0</td>\n",
       "    </tr>\n",
       "    <tr>\n",
       "      <th>4</th>\n",
       "      <td>-1.459630</td>\n",
       "      <td>-0.487228</td>\n",
       "      <td>-0.817230</td>\n",
       "      <td>0</td>\n",
       "      <td>0</td>\n",
       "      <td>0</td>\n",
       "      <td>1</td>\n",
       "      <td>0</td>\n",
       "      <td>0</td>\n",
       "      <td>0</td>\n",
       "      <td>...</td>\n",
       "      <td>0</td>\n",
       "      <td>1</td>\n",
       "      <td>0</td>\n",
       "      <td>0</td>\n",
       "      <td>0</td>\n",
       "      <td>0</td>\n",
       "      <td>0</td>\n",
       "      <td>0</td>\n",
       "      <td>0</td>\n",
       "      <td>0</td>\n",
       "    </tr>\n",
       "    <tr>\n",
       "      <th>...</th>\n",
       "      <td>...</td>\n",
       "      <td>...</td>\n",
       "      <td>...</td>\n",
       "      <td>...</td>\n",
       "      <td>...</td>\n",
       "      <td>...</td>\n",
       "      <td>...</td>\n",
       "      <td>...</td>\n",
       "      <td>...</td>\n",
       "      <td>...</td>\n",
       "      <td>...</td>\n",
       "      <td>...</td>\n",
       "      <td>...</td>\n",
       "      <td>...</td>\n",
       "      <td>...</td>\n",
       "      <td>...</td>\n",
       "      <td>...</td>\n",
       "      <td>...</td>\n",
       "      <td>...</td>\n",
       "      <td>...</td>\n",
       "      <td>...</td>\n",
       "    </tr>\n",
       "    <tr>\n",
       "      <th>5004</th>\n",
       "      <td>0.046380</td>\n",
       "      <td>-0.628031</td>\n",
       "      <td>-0.466599</td>\n",
       "      <td>0</td>\n",
       "      <td>0</td>\n",
       "      <td>0</td>\n",
       "      <td>0</td>\n",
       "      <td>0</td>\n",
       "      <td>1</td>\n",
       "      <td>0</td>\n",
       "      <td>...</td>\n",
       "      <td>1</td>\n",
       "      <td>0</td>\n",
       "      <td>0</td>\n",
       "      <td>0</td>\n",
       "      <td>0</td>\n",
       "      <td>0</td>\n",
       "      <td>0</td>\n",
       "      <td>0</td>\n",
       "      <td>0</td>\n",
       "      <td>0</td>\n",
       "    </tr>\n",
       "    <tr>\n",
       "      <th>5005</th>\n",
       "      <td>0.047388</td>\n",
       "      <td>1.560532</td>\n",
       "      <td>0.483234</td>\n",
       "      <td>1</td>\n",
       "      <td>0</td>\n",
       "      <td>0</td>\n",
       "      <td>0</td>\n",
       "      <td>0</td>\n",
       "      <td>0</td>\n",
       "      <td>0</td>\n",
       "      <td>...</td>\n",
       "      <td>0</td>\n",
       "      <td>0</td>\n",
       "      <td>0</td>\n",
       "      <td>0</td>\n",
       "      <td>0</td>\n",
       "      <td>0</td>\n",
       "      <td>0</td>\n",
       "      <td>0</td>\n",
       "      <td>0</td>\n",
       "      <td>0</td>\n",
       "    </tr>\n",
       "    <tr>\n",
       "      <th>5006</th>\n",
       "      <td>0.048396</td>\n",
       "      <td>0.527375</td>\n",
       "      <td>-0.157024</td>\n",
       "      <td>1</td>\n",
       "      <td>0</td>\n",
       "      <td>0</td>\n",
       "      <td>0</td>\n",
       "      <td>0</td>\n",
       "      <td>0</td>\n",
       "      <td>0</td>\n",
       "      <td>...</td>\n",
       "      <td>0</td>\n",
       "      <td>0</td>\n",
       "      <td>0</td>\n",
       "      <td>0</td>\n",
       "      <td>0</td>\n",
       "      <td>0</td>\n",
       "      <td>0</td>\n",
       "      <td>0</td>\n",
       "      <td>0</td>\n",
       "      <td>1</td>\n",
       "    </tr>\n",
       "    <tr>\n",
       "      <th>5007</th>\n",
       "      <td>0.049404</td>\n",
       "      <td>1.505744</td>\n",
       "      <td>0.625919</td>\n",
       "      <td>1</td>\n",
       "      <td>0</td>\n",
       "      <td>0</td>\n",
       "      <td>0</td>\n",
       "      <td>0</td>\n",
       "      <td>0</td>\n",
       "      <td>0</td>\n",
       "      <td>...</td>\n",
       "      <td>0</td>\n",
       "      <td>0</td>\n",
       "      <td>0</td>\n",
       "      <td>0</td>\n",
       "      <td>0</td>\n",
       "      <td>0</td>\n",
       "      <td>0</td>\n",
       "      <td>0</td>\n",
       "      <td>0</td>\n",
       "      <td>0</td>\n",
       "    </tr>\n",
       "    <tr>\n",
       "      <th>5008</th>\n",
       "      <td>0.050412</td>\n",
       "      <td>-0.611089</td>\n",
       "      <td>-0.871999</td>\n",
       "      <td>0</td>\n",
       "      <td>0</td>\n",
       "      <td>0</td>\n",
       "      <td>1</td>\n",
       "      <td>0</td>\n",
       "      <td>0</td>\n",
       "      <td>0</td>\n",
       "      <td>...</td>\n",
       "      <td>0</td>\n",
       "      <td>0</td>\n",
       "      <td>0</td>\n",
       "      <td>0</td>\n",
       "      <td>0</td>\n",
       "      <td>0</td>\n",
       "      <td>0</td>\n",
       "      <td>0</td>\n",
       "      <td>0</td>\n",
       "      <td>0</td>\n",
       "    </tr>\n",
       "  </tbody>\n",
       "</table>\n",
       "<p>5009 rows × 25 columns</p>\n",
       "</div>"
      ],
      "text/plain": [
       "             0         1         2  E  E10+  K-A  M  RP  T  dc  ...  ps2  ps3  \\\n",
       "0    -1.463662 -0.307499 -0.222066  1     0    0  0   0  0   0  ...    0    0   \n",
       "1    -1.462654  2.938074  2.711329  0     1    0  0   0  0   0  ...    0    0   \n",
       "2    -1.461646  0.233865 -0.874675  0     0    0  1   0  0   0  ...    0    0   \n",
       "3    -1.460638  0.114682 -0.171095  1     0    0  0   0  0   0  ...    1    0   \n",
       "4    -1.459630 -0.487228 -0.817230  0     0    0  1   0  0   0  ...    0    1   \n",
       "...        ...       ...       ... ..   ...  ... ..  .. ..  ..  ...  ...  ...   \n",
       "5004  0.046380 -0.628031 -0.466599  0     0    0  0   0  1   0  ...    1    0   \n",
       "5005  0.047388  1.560532  0.483234  1     0    0  0   0  0   0  ...    0    0   \n",
       "5006  0.048396  0.527375 -0.157024  1     0    0  0   0  0   0  ...    0    0   \n",
       "5007  0.049404  1.505744  0.625919  1     0    0  0   0  0   0  ...    0    0   \n",
       "5008  0.050412 -0.611089 -0.871999  0     0    0  1   0  0   0  ...    0    0   \n",
       "\n",
       "      ps4  psp  psv  wii  wiiu  x  x360  xone  \n",
       "0       0    0    0    0     0  0     0     0  \n",
       "1       0    0    0    1     0  0     0     0  \n",
       "2       0    0    0    0     0  0     0     0  \n",
       "3       0    0    0    0     0  0     0     0  \n",
       "4       0    0    0    0     0  0     0     0  \n",
       "...   ...  ...  ...  ...   ... ..   ...   ...  \n",
       "5004    0    0    0    0     0  0     0     0  \n",
       "5005    0    0    0    0     0  0     0     0  \n",
       "5006    0    0    0    0     0  0     0     1  \n",
       "5007    0    0    0    0     0  0     0     0  \n",
       "5008    0    0    0    0     0  0     0     0  \n",
       "\n",
       "[5009 rows x 25 columns]"
      ]
     },
     "execution_count": 22,
     "metadata": {},
     "output_type": "execute_result"
    }
   ],
   "source": [
    "data_upsampled"
   ]
  },
  {
   "cell_type": "code",
   "execution_count": 23,
   "metadata": {},
   "outputs": [],
   "source": [
    "X_train=data_upsampled[0:3506]\n",
    "X_test=data_upsampled[3506:]"
   ]
  },
  {
   "cell_type": "code",
   "execution_count": 24,
   "metadata": {},
   "outputs": [
    {
     "data": {
      "text/plain": [
       "0       float64\n",
       "1       float64\n",
       "2       float64\n",
       "E         uint8\n",
       "E10+      uint8\n",
       "K-A       uint8\n",
       "M         uint8\n",
       "RP        uint8\n",
       "T         uint8\n",
       "dc        uint8\n",
       "ds        uint8\n",
       "gba       uint8\n",
       "gc        uint8\n",
       "pc        uint8\n",
       "ps        uint8\n",
       "ps2       uint8\n",
       "ps3       uint8\n",
       "ps4       uint8\n",
       "psp       uint8\n",
       "psv       uint8\n",
       "wii       uint8\n",
       "wiiu      uint8\n",
       "x         uint8\n",
       "x360      uint8\n",
       "xone      uint8\n",
       "dtype: object"
      ]
     },
     "execution_count": 24,
     "metadata": {},
     "output_type": "execute_result"
    }
   ],
   "source": [
    "X_train.dtypes"
   ]
  },
  {
   "cell_type": "code",
   "execution_count": 25,
   "metadata": {},
   "outputs": [
    {
     "data": {
      "text/plain": [
       "0       False\n",
       "1       False\n",
       "2       False\n",
       "E       False\n",
       "E10+    False\n",
       "K-A     False\n",
       "M       False\n",
       "RP      False\n",
       "T       False\n",
       "dc      False\n",
       "ds      False\n",
       "gba     False\n",
       "gc      False\n",
       "pc      False\n",
       "ps      False\n",
       "ps2     False\n",
       "ps3     False\n",
       "ps4     False\n",
       "psp     False\n",
       "psv     False\n",
       "wii     False\n",
       "wiiu    False\n",
       "x       False\n",
       "x360    False\n",
       "xone    False\n",
       "dtype: bool"
      ]
     },
     "execution_count": 25,
     "metadata": {},
     "output_type": "execute_result"
    }
   ],
   "source": [
    "X_train.isnull().any()"
   ]
  },
  {
   "cell_type": "code",
   "execution_count": 31,
   "metadata": {},
   "outputs": [
    {
     "data": {
      "text/plain": [
       "AdaBoostRegressor(n_estimators=100, random_state=0)"
      ]
     },
     "execution_count": 31,
     "metadata": {},
     "output_type": "execute_result"
    }
   ],
   "source": [
    "from sklearn.ensemble import AdaBoostRegressor\n",
    "regressor= AdaBoostRegressor(random_state=0, n_estimators=100)\n",
    "\n",
    "regressor.fit(X_train, y)"
   ]
  },
  {
   "cell_type": "code",
   "execution_count": 32,
   "metadata": {},
   "outputs": [],
   "source": [
    "y_pred = regressor.predict(X_test)"
   ]
  },
  {
   "cell_type": "code",
   "execution_count": 33,
   "metadata": {},
   "outputs": [
    {
     "data": {
      "text/plain": [
       "array([2.47156455, 2.48169774, 3.02807714, ..., 3.11053403, 3.11053403,\n",
       "       5.63933326])"
      ]
     },
     "execution_count": 33,
     "metadata": {},
     "output_type": "execute_result"
    }
   ],
   "source": [
    "y_pred "
   ]
  },
  {
   "cell_type": "code",
   "execution_count": 35,
   "metadata": {},
   "outputs": [],
   "source": [
    "sub=pd.DataFrame()\n",
    "sub['SalesInMillions']=y_pred\n",
    "sub.to_csv(\"ada100.csv\",index=False)"
   ]
  },
  {
   "cell_type": "code",
   "execution_count": null,
   "metadata": {},
   "outputs": [],
   "source": []
  },
  {
   "cell_type": "code",
   "execution_count": null,
   "metadata": {},
   "outputs": [],
   "source": []
  }
 ],
 "metadata": {
  "kernelspec": {
   "display_name": "Python 3",
   "language": "python",
   "name": "python3"
  },
  "language_info": {
   "codemirror_mode": {
    "name": "ipython",
    "version": 3
   },
   "file_extension": ".py",
   "mimetype": "text/x-python",
   "name": "python",
   "nbconvert_exporter": "python",
   "pygments_lexer": "ipython3",
   "version": "3.7.3"
  }
 },
 "nbformat": 4,
 "nbformat_minor": 4
}
