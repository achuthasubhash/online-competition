{
 "cells": [
  {
   "cell_type": "code",
   "execution_count": 1,
   "metadata": {},
   "outputs": [],
   "source": [
    "import pandas as pd\n",
    "import numpy as np\n",
    "import seaborn as sns\n",
    "import matplotlib as plt\n",
    "import matplotlib.pyplot as plt"
   ]
  },
  {
   "cell_type": "code",
   "execution_count": 2,
   "metadata": {},
   "outputs": [],
   "source": [
    "traindata=pd.read_csv(\"E:\\\\hackerearth\\\\mothers day\\\\dataset\\\\train.csv\")"
   ]
  },
  {
   "cell_type": "code",
   "execution_count": 3,
   "metadata": {},
   "outputs": [
    {
     "data": {
      "text/html": [
       "<div>\n",
       "<style scoped>\n",
       "    .dataframe tbody tr th:only-of-type {\n",
       "        vertical-align: middle;\n",
       "    }\n",
       "\n",
       "    .dataframe tbody tr th {\n",
       "        vertical-align: top;\n",
       "    }\n",
       "\n",
       "    .dataframe thead th {\n",
       "        text-align: right;\n",
       "    }\n",
       "</style>\n",
       "<table border=\"1\" class=\"dataframe\">\n",
       "  <thead>\n",
       "    <tr style=\"text-align: right;\">\n",
       "      <th></th>\n",
       "      <th>id</th>\n",
       "      <th>original_text</th>\n",
       "      <th>lang</th>\n",
       "      <th>retweet_count</th>\n",
       "      <th>original_author</th>\n",
       "      <th>sentiment_class</th>\n",
       "    </tr>\n",
       "  </thead>\n",
       "  <tbody>\n",
       "    <tr>\n",
       "      <th>0</th>\n",
       "      <td>1.245025e+18</td>\n",
       "      <td>Happy #MothersDay to all you amazing mothers o...</td>\n",
       "      <td>en</td>\n",
       "      <td>0</td>\n",
       "      <td>BeenXXPired</td>\n",
       "      <td>0</td>\n",
       "    </tr>\n",
       "    <tr>\n",
       "      <th>1</th>\n",
       "      <td>1.245759e+18</td>\n",
       "      <td>Happy Mothers Day Mum - I'm sorry I can't be t...</td>\n",
       "      <td>en</td>\n",
       "      <td>1</td>\n",
       "      <td>FestiveFeeling</td>\n",
       "      <td>0</td>\n",
       "    </tr>\n",
       "    <tr>\n",
       "      <th>2</th>\n",
       "      <td>1.246087e+18</td>\n",
       "      <td>Happy mothers day To all This doing a mothers ...</td>\n",
       "      <td>en</td>\n",
       "      <td>0</td>\n",
       "      <td>KrisAllenSak</td>\n",
       "      <td>-1</td>\n",
       "    </tr>\n",
       "    <tr>\n",
       "      <th>3</th>\n",
       "      <td>1.244803e+18</td>\n",
       "      <td>Happy mothers day to this beautiful woman...ro...</td>\n",
       "      <td>en</td>\n",
       "      <td>0</td>\n",
       "      <td>Queenuchee</td>\n",
       "      <td>0</td>\n",
       "    </tr>\n",
       "    <tr>\n",
       "      <th>4</th>\n",
       "      <td>1.244876e+18</td>\n",
       "      <td>Remembering the 3 most amazing ladies who made...</td>\n",
       "      <td>en</td>\n",
       "      <td>0</td>\n",
       "      <td>brittan17446794</td>\n",
       "      <td>-1</td>\n",
       "    </tr>\n",
       "    <tr>\n",
       "      <th>...</th>\n",
       "      <td>...</td>\n",
       "      <td>...</td>\n",
       "      <td>...</td>\n",
       "      <td>...</td>\n",
       "      <td>...</td>\n",
       "      <td>...</td>\n",
       "    </tr>\n",
       "    <tr>\n",
       "      <th>3230</th>\n",
       "      <td>1.245745e+18</td>\n",
       "      <td>To all my sisters ,my sisters -in -law and als...</td>\n",
       "      <td>en</td>\n",
       "      <td>0</td>\n",
       "      <td>TheBookTweeters</td>\n",
       "      <td>0</td>\n",
       "    </tr>\n",
       "    <tr>\n",
       "      <th>3231</th>\n",
       "      <td>1.244368e+18</td>\n",
       "      <td>Happy Mother’s Day to all the Mums, Step Mums,...</td>\n",
       "      <td>en</td>\n",
       "      <td>0</td>\n",
       "      <td>MPWTW</td>\n",
       "      <td>1</td>\n",
       "    </tr>\n",
       "    <tr>\n",
       "      <th>3232</th>\n",
       "      <td>1.245675e+18</td>\n",
       "      <td>Happy Mothers Day to the craziest woman I know...</td>\n",
       "      <td>en</td>\n",
       "      <td>0</td>\n",
       "      <td>localcreativity</td>\n",
       "      <td>0</td>\n",
       "    </tr>\n",
       "    <tr>\n",
       "      <th>3233</th>\n",
       "      <td>1.243976e+18</td>\n",
       "      <td>Happy Mother's Day to my amazing wife! We both...</td>\n",
       "      <td>en</td>\n",
       "      <td>0</td>\n",
       "      <td>LoveluK77651882</td>\n",
       "      <td>0</td>\n",
       "    </tr>\n",
       "    <tr>\n",
       "      <th>3234</th>\n",
       "      <td>1.245409e+18</td>\n",
       "      <td>Wishing you all a safe &amp; happy Mothers Day #mo...</td>\n",
       "      <td>en</td>\n",
       "      <td>0</td>\n",
       "      <td>andreaanderegg</td>\n",
       "      <td>-1</td>\n",
       "    </tr>\n",
       "  </tbody>\n",
       "</table>\n",
       "<p>3235 rows × 6 columns</p>\n",
       "</div>"
      ],
      "text/plain": [
       "                id                                      original_text lang  \\\n",
       "0     1.245025e+18  Happy #MothersDay to all you amazing mothers o...   en   \n",
       "1     1.245759e+18  Happy Mothers Day Mum - I'm sorry I can't be t...   en   \n",
       "2     1.246087e+18  Happy mothers day To all This doing a mothers ...   en   \n",
       "3     1.244803e+18  Happy mothers day to this beautiful woman...ro...   en   \n",
       "4     1.244876e+18  Remembering the 3 most amazing ladies who made...   en   \n",
       "...            ...                                                ...  ...   \n",
       "3230  1.245745e+18  To all my sisters ,my sisters -in -law and als...   en   \n",
       "3231  1.244368e+18  Happy Mother’s Day to all the Mums, Step Mums,...   en   \n",
       "3232  1.245675e+18  Happy Mothers Day to the craziest woman I know...   en   \n",
       "3233  1.243976e+18  Happy Mother's Day to my amazing wife! We both...   en   \n",
       "3234  1.245409e+18  Wishing you all a safe & happy Mothers Day #mo...   en   \n",
       "\n",
       "     retweet_count  original_author  sentiment_class  \n",
       "0                0      BeenXXPired                0  \n",
       "1                1   FestiveFeeling                0  \n",
       "2                0     KrisAllenSak               -1  \n",
       "3                0       Queenuchee                0  \n",
       "4                0  brittan17446794               -1  \n",
       "...            ...              ...              ...  \n",
       "3230             0  TheBookTweeters                0  \n",
       "3231             0            MPWTW                1  \n",
       "3232             0  localcreativity                0  \n",
       "3233             0  LoveluK77651882                0  \n",
       "3234             0   andreaanderegg               -1  \n",
       "\n",
       "[3235 rows x 6 columns]"
      ]
     },
     "execution_count": 3,
     "metadata": {},
     "output_type": "execute_result"
    }
   ],
   "source": [
    "traindata"
   ]
  },
  {
   "cell_type": "code",
   "execution_count": 4,
   "metadata": {},
   "outputs": [
    {
     "data": {
      "text/plain": [
       "index              False\n",
       "id                 False\n",
       "original_text      False\n",
       "lang               False\n",
       "retweet_count      False\n",
       "original_author    False\n",
       "sentiment_class    False\n",
       "dtype: bool"
      ]
     },
     "execution_count": 4,
     "metadata": {},
     "output_type": "execute_result"
    }
   ],
   "source": [
    "traindata.isnull().any()\n",
    "traindata.dropna(inplace=True)\n",
    "traindata.reset_index(inplace=True)\n",
    "traindata.isnull().any()"
   ]
  },
  {
   "cell_type": "code",
   "execution_count": 5,
   "metadata": {},
   "outputs": [
    {
     "data": {
      "text/html": [
       "<div>\n",
       "<style scoped>\n",
       "    .dataframe tbody tr th:only-of-type {\n",
       "        vertical-align: middle;\n",
       "    }\n",
       "\n",
       "    .dataframe tbody tr th {\n",
       "        vertical-align: top;\n",
       "    }\n",
       "\n",
       "    .dataframe thead th {\n",
       "        text-align: right;\n",
       "    }\n",
       "</style>\n",
       "<table border=\"1\" class=\"dataframe\">\n",
       "  <thead>\n",
       "    <tr style=\"text-align: right;\">\n",
       "      <th></th>\n",
       "      <th>index</th>\n",
       "      <th>id</th>\n",
       "      <th>original_text</th>\n",
       "      <th>lang</th>\n",
       "      <th>retweet_count</th>\n",
       "      <th>original_author</th>\n",
       "      <th>sentiment_class</th>\n",
       "    </tr>\n",
       "  </thead>\n",
       "  <tbody>\n",
       "    <tr>\n",
       "      <th>0</th>\n",
       "      <td>0</td>\n",
       "      <td>1.245025e+18</td>\n",
       "      <td>Happy #MothersDay to all you amazing mothers o...</td>\n",
       "      <td>en</td>\n",
       "      <td>0</td>\n",
       "      <td>BeenXXPired</td>\n",
       "      <td>0</td>\n",
       "    </tr>\n",
       "    <tr>\n",
       "      <th>1</th>\n",
       "      <td>1</td>\n",
       "      <td>1.245759e+18</td>\n",
       "      <td>Happy Mothers Day Mum - I'm sorry I can't be t...</td>\n",
       "      <td>en</td>\n",
       "      <td>1</td>\n",
       "      <td>FestiveFeeling</td>\n",
       "      <td>0</td>\n",
       "    </tr>\n",
       "    <tr>\n",
       "      <th>2</th>\n",
       "      <td>2</td>\n",
       "      <td>1.246087e+18</td>\n",
       "      <td>Happy mothers day To all This doing a mothers ...</td>\n",
       "      <td>en</td>\n",
       "      <td>0</td>\n",
       "      <td>KrisAllenSak</td>\n",
       "      <td>-1</td>\n",
       "    </tr>\n",
       "    <tr>\n",
       "      <th>3</th>\n",
       "      <td>3</td>\n",
       "      <td>1.244803e+18</td>\n",
       "      <td>Happy mothers day to this beautiful woman...ro...</td>\n",
       "      <td>en</td>\n",
       "      <td>0</td>\n",
       "      <td>Queenuchee</td>\n",
       "      <td>0</td>\n",
       "    </tr>\n",
       "    <tr>\n",
       "      <th>4</th>\n",
       "      <td>4</td>\n",
       "      <td>1.244876e+18</td>\n",
       "      <td>Remembering the 3 most amazing ladies who made...</td>\n",
       "      <td>en</td>\n",
       "      <td>0</td>\n",
       "      <td>brittan17446794</td>\n",
       "      <td>-1</td>\n",
       "    </tr>\n",
       "    <tr>\n",
       "      <th>...</th>\n",
       "      <td>...</td>\n",
       "      <td>...</td>\n",
       "      <td>...</td>\n",
       "      <td>...</td>\n",
       "      <td>...</td>\n",
       "      <td>...</td>\n",
       "      <td>...</td>\n",
       "    </tr>\n",
       "    <tr>\n",
       "      <th>3222</th>\n",
       "      <td>3230</td>\n",
       "      <td>1.245745e+18</td>\n",
       "      <td>To all my sisters ,my sisters -in -law and als...</td>\n",
       "      <td>en</td>\n",
       "      <td>0</td>\n",
       "      <td>TheBookTweeters</td>\n",
       "      <td>0</td>\n",
       "    </tr>\n",
       "    <tr>\n",
       "      <th>3223</th>\n",
       "      <td>3231</td>\n",
       "      <td>1.244368e+18</td>\n",
       "      <td>Happy Mother’s Day to all the Mums, Step Mums,...</td>\n",
       "      <td>en</td>\n",
       "      <td>0</td>\n",
       "      <td>MPWTW</td>\n",
       "      <td>1</td>\n",
       "    </tr>\n",
       "    <tr>\n",
       "      <th>3224</th>\n",
       "      <td>3232</td>\n",
       "      <td>1.245675e+18</td>\n",
       "      <td>Happy Mothers Day to the craziest woman I know...</td>\n",
       "      <td>en</td>\n",
       "      <td>0</td>\n",
       "      <td>localcreativity</td>\n",
       "      <td>0</td>\n",
       "    </tr>\n",
       "    <tr>\n",
       "      <th>3225</th>\n",
       "      <td>3233</td>\n",
       "      <td>1.243976e+18</td>\n",
       "      <td>Happy Mother's Day to my amazing wife! We both...</td>\n",
       "      <td>en</td>\n",
       "      <td>0</td>\n",
       "      <td>LoveluK77651882</td>\n",
       "      <td>0</td>\n",
       "    </tr>\n",
       "    <tr>\n",
       "      <th>3226</th>\n",
       "      <td>3234</td>\n",
       "      <td>1.245409e+18</td>\n",
       "      <td>Wishing you all a safe &amp; happy Mothers Day #mo...</td>\n",
       "      <td>en</td>\n",
       "      <td>0</td>\n",
       "      <td>andreaanderegg</td>\n",
       "      <td>-1</td>\n",
       "    </tr>\n",
       "  </tbody>\n",
       "</table>\n",
       "<p>3227 rows × 7 columns</p>\n",
       "</div>"
      ],
      "text/plain": [
       "      index            id                                      original_text  \\\n",
       "0         0  1.245025e+18  Happy #MothersDay to all you amazing mothers o...   \n",
       "1         1  1.245759e+18  Happy Mothers Day Mum - I'm sorry I can't be t...   \n",
       "2         2  1.246087e+18  Happy mothers day To all This doing a mothers ...   \n",
       "3         3  1.244803e+18  Happy mothers day to this beautiful woman...ro...   \n",
       "4         4  1.244876e+18  Remembering the 3 most amazing ladies who made...   \n",
       "...     ...           ...                                                ...   \n",
       "3222   3230  1.245745e+18  To all my sisters ,my sisters -in -law and als...   \n",
       "3223   3231  1.244368e+18  Happy Mother’s Day to all the Mums, Step Mums,...   \n",
       "3224   3232  1.245675e+18  Happy Mothers Day to the craziest woman I know...   \n",
       "3225   3233  1.243976e+18  Happy Mother's Day to my amazing wife! We both...   \n",
       "3226   3234  1.245409e+18  Wishing you all a safe & happy Mothers Day #mo...   \n",
       "\n",
       "     lang retweet_count  original_author  sentiment_class  \n",
       "0      en             0      BeenXXPired                0  \n",
       "1      en             1   FestiveFeeling                0  \n",
       "2      en             0     KrisAllenSak               -1  \n",
       "3      en             0       Queenuchee                0  \n",
       "4      en             0  brittan17446794               -1  \n",
       "...   ...           ...              ...              ...  \n",
       "3222   en             0  TheBookTweeters                0  \n",
       "3223   en             0            MPWTW                1  \n",
       "3224   en             0  localcreativity                0  \n",
       "3225   en             0  LoveluK77651882                0  \n",
       "3226   en             0   andreaanderegg               -1  \n",
       "\n",
       "[3227 rows x 7 columns]"
      ]
     },
     "execution_count": 5,
     "metadata": {},
     "output_type": "execute_result"
    }
   ],
   "source": [
    "traindata"
   ]
  },
  {
   "cell_type": "code",
   "execution_count": 6,
   "metadata": {},
   "outputs": [
    {
     "data": {
      "text/plain": [
       "<matplotlib.axes._subplots.AxesSubplot at 0x28d2baa1c50>"
      ]
     },
     "execution_count": 6,
     "metadata": {},
     "output_type": "execute_result"
    },
    {
     "data": {
      "image/png": "[encoded data removed]",
      "text/plain": [
       "<Figure size 432x288 with 1 Axes>"
      ]
     },
     "metadata": {
      "needs_background": "light"
     },
     "output_type": "display_data"
    }
   ],
   "source": [
    "traindata.sentiment_class.hist(bins=50)"
   ]
  },
  {
   "cell_type": "code",
   "execution_count": 7,
   "metadata": {},
   "outputs": [
    {
     "data": {
      "text/plain": [
       "count     3227\n",
       "unique      68\n",
       "top          0\n",
       "freq      2521\n",
       "Name: retweet_count, dtype: object"
      ]
     },
     "execution_count": 7,
     "metadata": {},
     "output_type": "execute_result"
    }
   ],
   "source": [
    "traindata.retweet_count.describe()"
   ]
  },
  {
   "cell_type": "code",
   "execution_count": 8,
   "metadata": {},
   "outputs": [],
   "source": [
    "test=pd.read_csv(\"E:\\\\hackerearth\\\\mothers day\\\\dataset\\\\test.csv\")"
   ]
  },
  {
   "cell_type": "code",
   "execution_count": 9,
   "metadata": {},
   "outputs": [
    {
     "data": {
      "text/plain": [
       "id                 False\n",
       "original_text      False\n",
       "lang               False\n",
       "retweet_count       True\n",
       "original_author    False\n",
       "dtype: bool"
      ]
     },
     "execution_count": 9,
     "metadata": {},
     "output_type": "execute_result"
    }
   ],
   "source": [
    "test.isnull().any()"
   ]
  },
  {
   "cell_type": "code",
   "execution_count": 10,
   "metadata": {},
   "outputs": [],
   "source": [
    "test.fillna(0,inplace=True)"
   ]
  },
  {
   "cell_type": "code",
   "execution_count": 11,
   "metadata": {},
   "outputs": [
    {
     "data": {
      "text/plain": [
       "id                 False\n",
       "original_text      False\n",
       "lang               False\n",
       "retweet_count      False\n",
       "original_author    False\n",
       "dtype: bool"
      ]
     },
     "execution_count": 11,
     "metadata": {},
     "output_type": "execute_result"
    }
   ],
   "source": [
    "test.isnull().any()"
   ]
  },
  {
   "cell_type": "code",
   "execution_count": 12,
   "metadata": {},
   "outputs": [
    {
     "data": {
      "text/html": [
       "<div>\n",
       "<style scoped>\n",
       "    .dataframe tbody tr th:only-of-type {\n",
       "        vertical-align: middle;\n",
       "    }\n",
       "\n",
       "    .dataframe tbody tr th {\n",
       "        vertical-align: top;\n",
       "    }\n",
       "\n",
       "    .dataframe thead th {\n",
       "        text-align: right;\n",
       "    }\n",
       "</style>\n",
       "<table border=\"1\" class=\"dataframe\">\n",
       "  <thead>\n",
       "    <tr style=\"text-align: right;\">\n",
       "      <th></th>\n",
       "      <th>id</th>\n",
       "      <th>original_text</th>\n",
       "      <th>lang</th>\n",
       "      <th>retweet_count</th>\n",
       "      <th>original_author</th>\n",
       "    </tr>\n",
       "  </thead>\n",
       "  <tbody>\n",
       "    <tr>\n",
       "      <th>1382</th>\n",
       "      <td>1.245219e+18</td>\n",
       "      <td>Happy Mother’s Day you crazy bitch I’m sorry c...</td>\n",
       "      <td>en</td>\n",
       "      <td>0</td>\n",
       "      <td>MarlosFinds</td>\n",
       "    </tr>\n",
       "    <tr>\n",
       "      <th>1383</th>\n",
       "      <td>1.245882e+18</td>\n",
       "      <td>Mum can't get to the bingo, so we brought the ...</td>\n",
       "      <td>-0.8393813523</td>\n",
       "      <td>en</td>\n",
       "      <td>1</td>\n",
       "    </tr>\n",
       "    <tr>\n",
       "      <th>1384</th>\n",
       "      <td>1.246461e+18</td>\n",
       "      <td>Despite all this bullshit today has been one o...</td>\n",
       "      <td>en</td>\n",
       "      <td>0</td>\n",
       "      <td>LToddWood</td>\n",
       "    </tr>\n",
       "    <tr>\n",
       "      <th>1385</th>\n",
       "      <td>1.246245e+18</td>\n",
       "      <td>Happy Mothers Day Firstly to my Queen daniele_...</td>\n",
       "      <td>en</td>\n",
       "      <td>0</td>\n",
       "      <td>LToddWood</td>\n",
       "    </tr>\n",
       "    <tr>\n",
       "      <th>1386</th>\n",
       "      <td>1.245178e+18</td>\n",
       "      <td>Mothers Day Walk When you live in a tiny villa...</td>\n",
       "      <td>en</td>\n",
       "      <td>0</td>\n",
       "      <td>HerHistoryatYC</td>\n",
       "    </tr>\n",
       "  </tbody>\n",
       "</table>\n",
       "</div>"
      ],
      "text/plain": [
       "                id                                      original_text  \\\n",
       "1382  1.245219e+18  Happy Mother’s Day you crazy bitch I’m sorry c...   \n",
       "1383  1.245882e+18  Mum can't get to the bingo, so we brought the ...   \n",
       "1384  1.246461e+18  Despite all this bullshit today has been one o...   \n",
       "1385  1.246245e+18  Happy Mothers Day Firstly to my Queen daniele_...   \n",
       "1386  1.245178e+18  Mothers Day Walk When you live in a tiny villa...   \n",
       "\n",
       "               lang retweet_count original_author  \n",
       "1382             en             0     MarlosFinds  \n",
       "1383  -0.8393813523            en               1  \n",
       "1384             en             0       LToddWood  \n",
       "1385             en             0       LToddWood  \n",
       "1386             en             0  HerHistoryatYC  "
      ]
     },
     "execution_count": 12,
     "metadata": {},
     "output_type": "execute_result"
    }
   ],
   "source": [
    "test.tail()"
   ]
  },
  {
   "cell_type": "code",
   "execution_count": 13,
   "metadata": {},
   "outputs": [],
   "source": [
    "fdata=traindata.append(test,sort=False)\n",
    "\n",
    "fdata.reset_index(inplace=True)"
   ]
  },
  {
   "cell_type": "code",
   "execution_count": 14,
   "metadata": {},
   "outputs": [],
   "source": [
    "X=fdata.original_text\n",
    "y_train=traindata.sentiment_class"
   ]
  },
  {
   "cell_type": "code",
   "execution_count": 15,
   "metadata": {},
   "outputs": [
    {
     "name": "stderr",
     "output_type": "stream",
     "text": [
      "[nltk_data] Downloading package stopwords to\n",
      "[nltk_data]     C:\\Users\\DELL\\AppData\\Roaming\\nltk_data...\n",
      "[nltk_data]   Package stopwords is already up-to-date!\n"
     ]
    }
   ],
   "source": [
    "import re\n",
    "import nltk\n",
    "nltk.download('stopwords') #contain irrelvant words  & ava in diff lang\n",
    "from nltk.corpus import stopwords\n",
    "from nltk.stem.porter import PorterStemmer\n",
    "corpus = [] #corpus collection of strings\n",
    "for i in range(0,4614):\n",
    "    review = re.sub('[^a-zA-Z]', ' ', str(X[i])) #remove  except a-z & A-Z & create space b/w words\n",
    "    review = review.lower() #capital to lower\n",
    "    review = review.split()  #sentence to words\n",
    "    ps = PorterStemmer()  # loved to love (diff kind of same word into standard word)\n",
    "    review = [ps.stem(word) for word in review if not word in set(stopwords.words('english'))] #take words not in stopward\n",
    "    review = ' '.join(review) #again to string sep by space\n",
    "    corpus.append(review)\n",
    "\n",
    "from sklearn.feature_extraction.text import CountVectorizer\n",
    "cv = CountVectorizer(max_features = 8000)\n",
    "X1 = cv.fit_transform(corpus).toarray()"
   ]
  },
  {
   "cell_type": "code",
   "execution_count": 16,
   "metadata": {},
   "outputs": [],
   "source": [
    "X_train=X1[0:3227]\n",
    "X_test=X1[3227:]"
   ]
  },
  {
   "cell_type": "code",
   "execution_count": 17,
   "metadata": {},
   "outputs": [],
   "source": [
    "y_train=traindata.sentiment_class"
   ]
  },
  {
   "cell_type": "code",
   "execution_count": 24,
   "metadata": {},
   "outputs": [
    {
     "data": {
      "text/plain": [
       "AdaBoostClassifier(algorithm='SAMME.R', base_estimator=None, learning_rate=1.0,\n",
       "                   n_estimators=100, random_state=0)"
      ]
     },
     "execution_count": 24,
     "metadata": {},
     "output_type": "execute_result"
    }
   ],
   "source": [
    "from sklearn.ensemble import AdaBoostClassifier\n",
    "classifier = AdaBoostClassifier(n_estimators=100,learning_rate=1.0, random_state=0)\n",
    "classifier.fit(X_train, y_train)"
   ]
  },
  {
   "cell_type": "code",
   "execution_count": 25,
   "metadata": {},
   "outputs": [],
   "source": [
    "y_pred = classifier.predict(X_test)"
   ]
  },
  {
   "cell_type": "code",
   "execution_count": 26,
   "metadata": {},
   "outputs": [],
   "source": [
    "submission=pd.DataFrame()\n",
    "submission['id']=test['id']\n",
    "submission['sentiment_class']=y_pred\n",
    "submission.to_csv('adaboost100.csv',index=False)"
   ]
  },
  {
   "cell_type": "code",
   "execution_count": null,
   "metadata": {},
   "outputs": [],
   "source": []
  }
 ],
 "metadata": {
  "kernelspec": {
   "display_name": "Python 3",
   "language": "python",
   "name": "python3"
  },
  "language_info": {
   "codemirror_mode": {
    "name": "ipython",
    "version": 3
   },
   "file_extension": ".py",
   "mimetype": "text/x-python",
   "name": "python",
   "nbconvert_exporter": "python",
   "pygments_lexer": "ipython3",
   "version": "3.7.3"
  }
 },
 "nbformat": 4,
 "nbformat_minor": 4
}
