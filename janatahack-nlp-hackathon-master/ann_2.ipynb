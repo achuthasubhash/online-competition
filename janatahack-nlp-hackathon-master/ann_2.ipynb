{
 "cells": [
  {
   "cell_type": "code",
   "execution_count": 1,
   "metadata": {
    "colab": {
     "base_uri": "https://localhost:8080/",
     "height": 329
    },
    "colab_type": "code",
    "id": "UgzAuybldk0V",
    "outputId": "a653f361-673c-4669-b7d8-b7f45ad96d98"
   },
   "outputs": [
    {
     "name": "stderr",
     "output_type": "stream",
     "text": [
      "[nltk_data] Downloading package stopwords to\n",
      "[nltk_data]     C:\\Users\\DELL\\AppData\\Roaming\\nltk_data...\n",
      "[nltk_data]   Package stopwords is already up-to-date!\n"
     ]
    },
    {
     "data": {
      "image/png": "[encoded data removed]",
      "text/plain": [
       "<Figure size 432x288 with 1 Axes>"
      ]
     },
     "metadata": {
      "needs_background": "light"
     },
     "output_type": "display_data"
    }
   ],
   "source": [
    "import pandas as pd\n",
    "import numpy as np\n",
    "import seaborn as sns\n",
    "import matplotlib as plt\n",
    "import matplotlib.pyplot as plt \n",
    "\n",
    "traindata=pd.read_csv(\"E:\\\\assignment\\\\ass 19 nlp rec\\\\train.csv\")\n",
    "\n",
    "traindata.tail()\n",
    "\n",
    "game=pd.read_csv(\"E:\\\\assignment\\\\ass 19 nlp rec\\\\game_overview.csv\")\n",
    "\n",
    "game.head()\n",
    "\n",
    "data=traindata.merge(game, on='title')\n",
    "\n",
    "data.head()\n",
    "\n",
    "data.isnull().any()\n",
    "\n",
    "#checking balance or not\n",
    "count = pd.value_counts(data['user_suggestion'], sort = True)\n",
    "count.plot(kind = 'bar', rot=0)\n",
    "plt.title(\"Transaction Class Distribution\")\n",
    "plt.xlabel(\"Class\")\n",
    "plt.ylabel(\"Frequency\")\n",
    "\n",
    "test=pd.read_csv(\"E:\\\\assignment\\\\ass 19 nlp rec\\\\test.csv\")\n",
    "\n",
    "test.head()\n",
    "\n",
    "fdata=data.append(test,sort=False)\n",
    "\n",
    "fdata.reset_index(inplace=True)\n",
    "\n",
    "fdata.tail()\n",
    "\n",
    "import re\n",
    "import nltk\n",
    "nltk.download('stopwords') #contain irrelvant words  & ava in diff lang\n",
    "from nltk.corpus import stopwords\n",
    "from nltk.stem.porter import PorterStemmer\n",
    "corpus = [] #corpus collection of strings\n",
    "for i in range(0,25539):\n",
    "    review = re.sub('[^a-zA-Z]', ' ', str(fdata['user_review'][i])) #remove  except a-z & A-Z & create space b/w words\n",
    "    review = review.lower() #capital to lower\n",
    "    review = review.split()  #sentence to words\n",
    "    ps = PorterStemmer()  # loved to love (diff kind of same word into standard word)\n",
    "    review = [ps.stem(word) for word in review if not word in set(stopwords.words('english'))] #take words not in stopward\n",
    "    review = ' '.join(review) #again to string sep by space\n",
    "    corpus.append(review)\n",
    "\n",
    "from sklearn.feature_extraction.text import CountVectorizer\n",
    "cv = CountVectorizer(max_features = 10000)\n",
    "X = cv.fit_transform(corpus).toarray()\n",
    "\n",
    "X_train=X[0:17494]\n",
    "X_test=X[17494:]\n",
    "\n",
    "y_train=traindata['user_suggestion']\n",
    "           "
   ]
  },
  {
   "cell_type": "code",
   "execution_count": 11,
   "metadata": {
    "colab": {
     "base_uri": "https://localhost:8080/",
     "height": 185
    },
    "colab_type": "code",
    "id": "xJls-xKC6Z6H",
    "outputId": "e60726ad-0c7a-4aa7-a645-104bc35da28b"
   },
   "outputs": [
    {
     "name": "stdout",
     "output_type": "stream",
     "text": [
      "Epoch 1/2\n",
      "17494/17494 [==============================] - 142s 8ms/step - loss: 0.4239 - acc: 0.8263\n",
      "Epoch 2/2\n",
      "17494/17494 [==============================] - 139s 8ms/step - loss: 0.2193 - acc: 0.9192\n"
     ]
    }
   ],
   "source": [
    "import keras\n",
    "from keras.models import Sequential\n",
    "from keras.layers import Dense, Dropout\n",
    "from keras.optimizers import SGD\n",
    "# Initialising the ANN\n",
    "classifier = Sequential()\n",
    "\n",
    "# Adding the input layer and the first hidden layer\n",
    "classifier.add(Dense(units = 5000, kernel_initializer = 'he_uniform', activation = 'relu', input_dim = 10000))\n",
    "classifier.add(Dropout(0.4))\n",
    "# Adding the second hidden layer\n",
    "classifier.add(Dense(units = 5000, kernel_initializer = 'he_uniform', activation = 'relu'))\n",
    "classifier.add(Dropout(0.4))\n",
    "# Adding the output layer\n",
    "classifier.add(Dense(units = 1, kernel_initializer = 'he_uniform', activation = 'sigmoid'))\n",
    "\n",
    "# Compiling the ANN\n",
    "classifier.compile(optimizer = 'adam', loss = 'binary_crossentropy', metrics = ['accuracy'])\n",
    "\n",
    "\n",
    "\n",
    "classifier.fit(X_train, y_train, batch_size = 128, epochs = 2)\n",
    "\n",
    "y_pred = classifier.predict(X_test)\n",
    "y_pred = np.concatenate(y_pred)\n",
    "res=[]\n",
    "y=0.5\n",
    "for i in y_pred :\n",
    "    if  i>0.5:\n",
    "         res.append(1)\n",
    "    else:\n",
    "         res.append(0)\n",
    "results = np.array(res)\n"
   ]
  },
  {
   "cell_type": "code",
   "execution_count": 13,
   "metadata": {
    "colab": {},
    "colab_type": "code",
    "id": "4nqFwQUheLEk"
   },
   "outputs": [],
   "source": [
    "\n",
    "results = pd.Series(results,name=\"pred\")\n",
    "\n",
    "submission = pd.concat([pd.Series(range(1,36001),name = \"ImageId\"),results],axis = 1)\n",
    "\n",
    "submission.to_csv(\"ann 1 e-0.4 10000 5000 e=2 0.4.csv\",index=False)"
   ]
  },
  {
   "cell_type": "code",
   "execution_count": null,
   "metadata": {},
   "outputs": [],
   "source": []
  }
 ],
 "metadata": {
  "colab": {
   "collapsed_sections": [],
   "name": "code1.ipynb",
   "provenance": []
  },
  "kernelspec": {
   "display_name": "Python 3",
   "language": "python",
   "name": "python3"
  },
  "language_info": {
   "codemirror_mode": {
    "name": "ipython",
    "version": 3
   },
   "file_extension": ".py",
   "mimetype": "text/x-python",
   "name": "python",
   "nbconvert_exporter": "python",
   "pygments_lexer": "ipython3",
   "version": "3.7.3"
  }
 },
 "nbformat": 4,
 "nbformat_minor": 1
}
