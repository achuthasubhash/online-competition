{
 "cells": [
  {
   "cell_type": "code",
   "execution_count": 1,
   "metadata": {},
   "outputs": [],
   "source": [
    "import pandas as pd\n",
    "import numpy as np\n",
    "import seaborn as sns\n",
    "import matplotlib as plt\n",
    "import matplotlib.pyplot as plt\n",
    "train_df=pd.read_csv(\"E:\\\\assignment\\\\ASS 11 women in data science\\\\train.csv\")\n",
    "train_df.head()\n",
    "test_df=pd.read_csv(\"E:\\\\assignment\\\\ASS 11 women in data science\\\\test_QkPvNLx.csv\")\n",
    "big_df=train_df.append(test_df,sort=False)\n",
    "big_df.head()\n",
    "big_df['Long_Promotion'].unique()\n",
    "big_df['Sales'].fillna((big_df['Sales'].mean()),inplace=True)\n",
    "big_df['User_Traffic'].fillna((big_df['User_Traffic'].median()),inplace=True)\n",
    "big_df['Competition_Metric'].fillna((big_df['Competition_Metric'].median()),inplace=True)\n",
    "sxfe=['User_Traffic','Competition_Metric']\n",
    "data=big_df[sxfe]\n",
    "from sklearn.preprocessing import StandardScaler\n",
    "sc_X = StandardScaler()\n",
    "sc1= StandardScaler()\n",
    "X_sc = sc_X.fit_transform(data)\n",
    "cd=pd.get_dummies(big_df['Course_Domain'],drop_first=True)\n",
    "ct=pd.get_dummies(big_df['Course_Type'],drop_first=True)\n",
    "df = pd.DataFrame(data=X_sc)\n",
    "big_df = pd.concat([big_df,cd,ct],axis=1)\n",
    "big_df.drop(['ID','Day_No','Course_ID','User_Traffic','Competition_Metric','Course_Domain','Course_Type'],axis=1,inplace=True)\n",
    "f=['Short_Promotion','Public_Holiday','Long_Promotion','Sales','Development','Finance & Accounting','Software Marketing','Degree','Program']\n",
    "xfea=big_df[f]\n",
    "df.reset_index(drop=True, inplace=True)\n",
    "xfea.reset_index(drop=True, inplace=True)\n",
    "\n",
    "big_dfx = pd.concat([df,xfea],axis=1)\n",
    "df_train=big_dfx[0:512087]\n",
    "df_test=big_dfx[512087:]\n",
    "X=df_train.drop(['Sales'],axis=1)\n",
    "y=df_train.Sales\n",
    "\n",
    "Xtest=df_test.drop(['Sales'],axis=1)"
   ]
  },
  {
   "cell_type": "code",
   "execution_count": 2,
   "metadata": {},
   "outputs": [
    {
     "name": "stderr",
     "output_type": "stream",
     "text": [
      "C:\\ProgramData\\Anaconda3\\lib\\site-packages\\dask\\config.py:168: YAMLLoadWarning: calling yaml.load() without Loader=... is deprecated, as the default Loader is unsafe. Please read https://msg.pyyaml.org/load for full details.\n",
      "  data = yaml.load(f.read()) or {}\n",
      "C:\\ProgramData\\Anaconda3\\lib\\site-packages\\distributed\\config.py:20: YAMLLoadWarning: calling yaml.load() without Loader=... is deprecated, as the default Loader is unsafe. Please read https://msg.pyyaml.org/load for full details.\n",
      "  defaults = yaml.load(f)\n"
     ]
    }
   ],
   "source": [
    "import xgboost as xgb"
   ]
  },
  {
   "cell_type": "code",
   "execution_count": 5,
   "metadata": {},
   "outputs": [
    {
     "name": "stderr",
     "output_type": "stream",
     "text": [
      "C:\\ProgramData\\Anaconda3\\lib\\site-packages\\sklearn\\model_selection\\_search.py:271: UserWarning: The total space of parameters 2 is smaller than n_iter=100. Running 2 iterations. For exhaustive searches, use GridSearchCV.\n",
      "  % (grid_size, self.n_iter, grid_size), UserWarning)\n",
      "[Parallel(n_jobs=-1)]: Using backend LokyBackend with 8 concurrent workers.\n"
     ]
    },
    {
     "name": "stdout",
     "output_type": "stream",
     "text": [
      "Fitting 5 folds for each of 2 candidates, totalling 10 fits\n"
     ]
    },
    {
     "name": "stderr",
     "output_type": "stream",
     "text": [
      "[Parallel(n_jobs=-1)]: Done   7 out of  10 | elapsed:  3.1min remaining:  1.3min\n",
      "[Parallel(n_jobs=-1)]: Done  10 out of  10 | elapsed:  4.2min finished\n"
     ]
    }
   ],
   "source": [
    "from xgboost import XGBRegressor\n",
    "from sklearn.model_selection import RandomizedSearchCV\n",
    "n_estimators =[100,200]\n",
    "learning_rate = ['0.1']\n",
    "random_grid = {'n_estimators': n_estimators,'learning_rate': learning_rate}\n",
    "regressor=xgb.XGBRegressor()\n",
    "xg_random = RandomizedSearchCV(estimator = regressor, param_distributions = random_grid,scoring='neg_mean_squared_error', n_iter = 100, cv = 5, verbose=2, random_state=42, n_jobs = -1)\n",
    "xg_random.fit(X,y)\n",
    "y_pred=xg_random.predict(Xtest)"
   ]
  },
  {
   "cell_type": "code",
   "execution_count": 6,
   "metadata": {},
   "outputs": [],
   "source": [
    "results = np.array(y_pred)\n",
    "\n",
    "results = pd.Series(results,name=\"pred\")\n",
    "\n",
    "submission = pd.concat([pd.Series(range(1,36001),name = \"ImageId\"),results],axis = 1)\n",
    "\n",
    "submission.to_csv(\"xgboost.csv\",index=False)"
   ]
  },
  {
   "cell_type": "code",
   "execution_count": null,
   "metadata": {},
   "outputs": [],
   "source": []
  }
 ],
 "metadata": {
  "kernelspec": {
   "display_name": "Python 3",
   "language": "python",
   "name": "python3"
  },
  "language_info": {
   "codemirror_mode": {
    "name": "ipython",
    "version": 3
   },
   "file_extension": ".py",
   "mimetype": "text/x-python",
   "name": "python",
   "nbconvert_exporter": "python",
   "pygments_lexer": "ipython3",
   "version": "3.7.3"
  }
 },
 "nbformat": 4,
 "nbformat_minor": 2
}
